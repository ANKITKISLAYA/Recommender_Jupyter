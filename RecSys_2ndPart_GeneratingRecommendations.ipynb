{
 "cells": [
  {
   "cell_type": "code",
   "execution_count": 28,
   "metadata": {},
   "outputs": [],
   "source": []
  },
  {
   "cell_type": "markdown",
   "metadata": {},
   "source": [
    "# RecSys 2  Filtering on warehouseid"
   ]
  },
  {
   "cell_type": "code",
   "execution_count": null,
   "metadata": {},
   "outputs": [],
   "source": []
  },
  {
   "cell_type": "code",
   "execution_count": 10,
   "metadata": {},
   "outputs": [],
   "source": [
    "import pandas as pd\n",
    "from pymongo import MongoClient \n",
    "from collections import defaultdict\n",
    "from operator import itemgetter "
   ]
  },
  {
   "cell_type": "code",
   "execution_count": null,
   "metadata": {},
   "outputs": [],
   "source": []
  },
  {
   "cell_type": "code",
   "execution_count": 11,
   "metadata": {},
   "outputs": [],
   "source": [
    "itemid = 10639\n",
    "number = 20\n",
    "wid = 7"
   ]
  },
  {
   "cell_type": "code",
   "execution_count": null,
   "metadata": {},
   "outputs": [],
   "source": []
  },
  {
   "cell_type": "code",
   "execution_count": 12,
   "metadata": {},
   "outputs": [],
   "source": [
    "citem = int(itemid)\n",
    "number = int(number)\n",
    "l=[]\n",
    "l1=[]\n",
    "conn = MongoClient('192.168.1.101', 27017)\n",
    "mydb = conn.ankit_database\n",
    "collection = mydb.RecSysItem\n",
    "collection1 = mydb.ItemWarehouse\n",
    "\n",
    "dfw = pd.DataFrame(list(collection1.find({ 'WarehouseId' :wid })))"
   ]
  },
  {
   "cell_type": "code",
   "execution_count": null,
   "metadata": {},
   "outputs": [],
   "source": []
  },
  {
   "cell_type": "code",
   "execution_count": null,
   "metadata": {},
   "outputs": [],
   "source": []
  },
  {
   "cell_type": "code",
   "execution_count": 13,
   "metadata": {},
   "outputs": [],
   "source": [
    "\n",
    "lw = dfw.iloc[0,2]\n",
    "\n",
    "df1 = pd.DataFrame(list(collection.find( { 'itemid' :1 })))\n",
    "df2 = df1.drop(['_id' , 'itemid'], axis = 1)\n",
    "df3 = df2.sort_values(0, axis=1, ascending=False, inplace=False, kind='quicksort', na_position='last')\n",
    "l1 = list(df3.columns.values)\n",
    "\n",
    "#lcolumn = list(df1.columns.values)\n",
    "#lcolumn = lcolumn[:-2]\n",
    "#lcolumn = lcolumn[2:]\n",
    "l1 = [int(i) for i in l1]\n",
    "\n",
    "\n",
    "\n",
    "if (citem in l1):  \n",
    "    df = pd.DataFrame(list(collection.find( { 'itemid' : citem })))\n",
    "    df12 = df.drop(['_id' , 'itemid'], axis = 1)\n",
    "    df13 = df12.sort_values(0, axis=1, ascending=False, inplace=False, kind='quicksort', na_position='last')\n",
    "    l12 = list(df13.columns.values)\n",
    "    l12 = [int(i) for i in l12]\n",
    "    pos=0\n",
    "    for itemID in l12:\n",
    "        if ((itemID != citem) & (itemID in lw) ):\n",
    "            l.append(itemID)\n",
    "            pos += 1\n",
    "            if (pos > number-1):\n",
    "                break\n",
    "        l = [int(i) for i in l]  \n",
    "    #return tuple(l)\n",
    "\n",
    "else:\n",
    "    for i in l1:\n",
    "        if (i in lw):\n",
    "            l.append(i)\n",
    "\n",
    "        if (len(l) > number):\n",
    "            break\n",
    "   # return tuple(l)"
   ]
  },
  {
   "cell_type": "code",
   "execution_count": null,
   "metadata": {},
   "outputs": [],
   "source": []
  },
  {
   "cell_type": "code",
   "execution_count": null,
   "metadata": {},
   "outputs": [],
   "source": []
  },
  {
   "cell_type": "code",
   "execution_count": null,
   "metadata": {},
   "outputs": [],
   "source": []
  },
  {
   "cell_type": "code",
   "execution_count": 24,
   "metadata": {},
   "outputs": [
    {
     "data": {
      "text/html": [
       "<div>\n",
       "<style scoped>\n",
       "    .dataframe tbody tr th:only-of-type {\n",
       "        vertical-align: middle;\n",
       "    }\n",
       "\n",
       "    .dataframe tbody tr th {\n",
       "        vertical-align: top;\n",
       "    }\n",
       "\n",
       "    .dataframe thead th {\n",
       "        text-align: right;\n",
       "    }\n",
       "</style>\n",
       "<table border=\"1\" class=\"dataframe\">\n",
       "  <thead>\n",
       "    <tr style=\"text-align: right;\">\n",
       "      <th></th>\n",
       "      <th>600</th>\n",
       "      <th>602</th>\n",
       "      <th>604</th>\n",
       "      <th>872</th>\n",
       "      <th>873</th>\n",
       "      <th>875</th>\n",
       "      <th>868</th>\n",
       "      <th>1017</th>\n",
       "      <th>1019</th>\n",
       "      <th>895</th>\n",
       "      <th>...</th>\n",
       "      <th>298170</th>\n",
       "      <th>261306</th>\n",
       "      <th>75618</th>\n",
       "      <th>11463</th>\n",
       "      <th>262337</th>\n",
       "      <th>319014</th>\n",
       "      <th>202525</th>\n",
       "      <th>298146</th>\n",
       "      <th>262355</th>\n",
       "      <th>144068</th>\n",
       "    </tr>\n",
       "  </thead>\n",
       "  <tbody>\n",
       "    <tr>\n",
       "      <td>0</td>\n",
       "      <td>0.0</td>\n",
       "      <td>0.0</td>\n",
       "      <td>0.0</td>\n",
       "      <td>0.0</td>\n",
       "      <td>0.0</td>\n",
       "      <td>0.0</td>\n",
       "      <td>0.0</td>\n",
       "      <td>0.0</td>\n",
       "      <td>0.0</td>\n",
       "      <td>0.0</td>\n",
       "      <td>...</td>\n",
       "      <td>0.0</td>\n",
       "      <td>0.0</td>\n",
       "      <td>0.0</td>\n",
       "      <td>0.0</td>\n",
       "      <td>0.0</td>\n",
       "      <td>0.0</td>\n",
       "      <td>0.0</td>\n",
       "      <td>0.0</td>\n",
       "      <td>0.0</td>\n",
       "      <td>0.0</td>\n",
       "    </tr>\n",
       "  </tbody>\n",
       "</table>\n",
       "<p>1 rows × 15008 columns</p>\n",
       "</div>"
      ],
      "text/plain": [
       "   600  602  604  872  873  875  868  1017  1019  895  ...  298170  261306  \\\n",
       "0  0.0  0.0  0.0  0.0  0.0  0.0  0.0   0.0   0.0  0.0  ...     0.0     0.0   \n",
       "\n",
       "   75618  11463  262337  319014  202525  298146  262355  144068  \n",
       "0    0.0    0.0     0.0     0.0     0.0     0.0     0.0     0.0  \n",
       "\n",
       "[1 rows x 15008 columns]"
      ]
     },
     "execution_count": 24,
     "metadata": {},
     "output_type": "execute_result"
    }
   ],
   "source": [
    "df12"
   ]
  },
  {
   "cell_type": "code",
   "execution_count": null,
   "metadata": {},
   "outputs": [],
   "source": []
  },
  {
   "cell_type": "code",
   "execution_count": 209,
   "metadata": {},
   "outputs": [
    {
     "data": {
      "text/plain": [
       "[23532,\n",
       " 9728,\n",
       " 23512,\n",
       " 9644,\n",
       " 23502,\n",
       " 23922,\n",
       " 23492,\n",
       " 8872,\n",
       " 31937,\n",
       " 8915,\n",
       " 8621,\n",
       " 8883,\n",
       " 8898,\n",
       " 9016,\n",
       " 10378,\n",
       " 10086,\n",
       " 35134,\n",
       " 38126,\n",
       " 8916,\n",
       " 92507]"
      ]
     },
     "execution_count": 209,
     "metadata": {},
     "output_type": "execute_result"
    }
   ],
   "source": [
    "l"
   ]
  },
  {
   "cell_type": "code",
   "execution_count": null,
   "metadata": {},
   "outputs": [],
   "source": []
  },
  {
   "cell_type": "code",
   "execution_count": 161,
   "metadata": {},
   "outputs": [
    {
     "data": {
      "text/plain": [
       "15008"
      ]
     },
     "execution_count": 161,
     "metadata": {},
     "output_type": "execute_result"
    }
   ],
   "source": [
    "l12"
   ]
  },
  {
   "cell_type": "code",
   "execution_count": 162,
   "metadata": {},
   "outputs": [
    {
     "data": {
      "text/plain": [
       "1160"
      ]
     },
     "execution_count": 162,
     "metadata": {},
     "output_type": "execute_result"
    }
   ],
   "source": [
    "len(lw)"
   ]
  },
  {
   "cell_type": "code",
   "execution_count": null,
   "metadata": {},
   "outputs": [],
   "source": []
  },
  {
   "cell_type": "code",
   "execution_count": 179,
   "metadata": {},
   "outputs": [],
   "source": [
    "l =[]\n",
    "citem =1"
   ]
  },
  {
   "cell_type": "code",
   "execution_count": 180,
   "metadata": {},
   "outputs": [],
   "source": [
    "pos = 0\n",
    "for itemID in l12:\n",
    "    if ((itemID != citem) & (itemID in lw) ):\n",
    "        l.append(itemID)\n",
    "        pos += 1\n",
    "        if (pos > number-1):\n",
    "            break\n",
    "    l = [int(i) for i in l] "
   ]
  },
  {
   "cell_type": "code",
   "execution_count": 181,
   "metadata": {},
   "outputs": [
    {
     "data": {
      "text/plain": [
       "[10044,\n",
       " 10053,\n",
       " 10179,\n",
       " 10187,\n",
       " 10459,\n",
       " 10506,\n",
       " 10509,\n",
       " 11077,\n",
       " 11314,\n",
       " 11409,\n",
       " 11072,\n",
       " 11546,\n",
       " 23533,\n",
       " 12790,\n",
       " 23653,\n",
       " 23743,\n",
       " 23893,\n",
       " 23833,\n",
       " 23633,\n",
       " 31641]"
      ]
     },
     "execution_count": 181,
     "metadata": {},
     "output_type": "execute_result"
    }
   ],
   "source": [
    "l"
   ]
  },
  {
   "cell_type": "code",
   "execution_count": null,
   "metadata": {},
   "outputs": [],
   "source": []
  },
  {
   "cell_type": "code",
   "execution_count": 99,
   "metadata": {},
   "outputs": [
    {
     "data": {
      "text/plain": [
       "[600, 602, 604, 601, 707, 684, 701, 702, 709, 685]"
      ]
     },
     "execution_count": 99,
     "metadata": {},
     "output_type": "execute_result"
    }
   ],
   "source": [
    "l"
   ]
  },
  {
   "cell_type": "code",
   "execution_count": null,
   "metadata": {},
   "outputs": [],
   "source": []
  },
  {
   "cell_type": "code",
   "execution_count": null,
   "metadata": {},
   "outputs": [],
   "source": []
  },
  {
   "cell_type": "code",
   "execution_count": 11,
   "metadata": {},
   "outputs": [],
   "source": [
    "citem = int(itemid)\n",
    "number = int(number)\n",
    "l=[]\n",
    "l1=[]\n",
    "conn = MongoClient('192.168.1.101', 27017)\n",
    "mydb = conn.ankit_database\n",
    "collection = mydb.RecSysItem\n",
    "collection1 = mydb.ItemWarehouse\n",
    "\n"
   ]
  },
  {
   "cell_type": "code",
   "execution_count": null,
   "metadata": {},
   "outputs": [],
   "source": []
  },
  {
   "cell_type": "code",
   "execution_count": null,
   "metadata": {},
   "outputs": [],
   "source": []
  },
  {
   "cell_type": "code",
   "execution_count": 12,
   "metadata": {},
   "outputs": [],
   "source": [
    "df = pd.DataFrame(list(collection1.find({ 'WarehouseId' :1 })))"
   ]
  },
  {
   "cell_type": "code",
   "execution_count": 13,
   "metadata": {},
   "outputs": [
    {
     "data": {
      "text/html": [
       "<div>\n",
       "<style scoped>\n",
       "    .dataframe tbody tr th:only-of-type {\n",
       "        vertical-align: middle;\n",
       "    }\n",
       "\n",
       "    .dataframe tbody tr th {\n",
       "        vertical-align: top;\n",
       "    }\n",
       "\n",
       "    .dataframe thead th {\n",
       "        text-align: right;\n",
       "    }\n",
       "</style>\n",
       "<table border=\"1\" class=\"dataframe\">\n",
       "  <thead>\n",
       "    <tr style=\"text-align: right;\">\n",
       "      <th></th>\n",
       "      <th>_id</th>\n",
       "      <th>WarehouseId</th>\n",
       "      <th>item</th>\n",
       "    </tr>\n",
       "  </thead>\n",
       "  <tbody>\n",
       "    <tr>\n",
       "      <td>0</td>\n",
       "      <td>5e2a8b666fc9189d3b47a5df</td>\n",
       "      <td>1</td>\n",
       "      <td>[0, 1, 2, 6, 23, 48, 49, 50, 51, 52, 53, 54, 5...</td>\n",
       "    </tr>\n",
       "  </tbody>\n",
       "</table>\n",
       "</div>"
      ],
      "text/plain": [
       "                        _id  WarehouseId  \\\n",
       "0  5e2a8b666fc9189d3b47a5df            1   \n",
       "\n",
       "                                                item  \n",
       "0  [0, 1, 2, 6, 23, 48, 49, 50, 51, 52, 53, 54, 5...  "
      ]
     },
     "execution_count": 13,
     "metadata": {},
     "output_type": "execute_result"
    }
   ],
   "source": [
    "df"
   ]
  },
  {
   "cell_type": "code",
   "execution_count": null,
   "metadata": {},
   "outputs": [],
   "source": []
  },
  {
   "cell_type": "code",
   "execution_count": null,
   "metadata": {},
   "outputs": [],
   "source": []
  },
  {
   "cell_type": "code",
   "execution_count": 17,
   "metadata": {},
   "outputs": [],
   "source": [
    "l = df.iloc[0,2]"
   ]
  },
  {
   "cell_type": "code",
   "execution_count": null,
   "metadata": {},
   "outputs": [],
   "source": []
  },
  {
   "cell_type": "code",
   "execution_count": null,
   "metadata": {},
   "outputs": [],
   "source": []
  },
  {
   "cell_type": "code",
   "execution_count": 19,
   "metadata": {},
   "outputs": [
    {
     "data": {
      "text/plain": [
       "1732"
      ]
     },
     "execution_count": 19,
     "metadata": {},
     "output_type": "execute_result"
    }
   ],
   "source": [
    "len(l)"
   ]
  },
  {
   "cell_type": "code",
   "execution_count": null,
   "metadata": {},
   "outputs": [],
   "source": []
  },
  {
   "cell_type": "code",
   "execution_count": 357,
   "metadata": {},
   "outputs": [],
   "source": [
    "df1 = pd.DataFrame(list(collection.find({ 'itemid' :1 })))\n",
    "df2 = df1.drop(['_id' , 'itemid'], axis = 1)\n"
   ]
  },
  {
   "cell_type": "code",
   "execution_count": null,
   "metadata": {},
   "outputs": [],
   "source": []
  },
  {
   "cell_type": "code",
   "execution_count": 358,
   "metadata": {},
   "outputs": [],
   "source": [
    "df3 = df2.sort_values(0, axis=1, ascending=False, inplace=False, kind='quicksort', na_position='last')\n",
    "l1 = list(df3.columns.values)\n"
   ]
  },
  {
   "cell_type": "code",
   "execution_count": null,
   "metadata": {},
   "outputs": [],
   "source": []
  },
  {
   "cell_type": "code",
   "execution_count": null,
   "metadata": {},
   "outputs": [],
   "source": []
  },
  {
   "cell_type": "code",
   "execution_count": null,
   "metadata": {},
   "outputs": [],
   "source": []
  },
  {
   "cell_type": "code",
   "execution_count": null,
   "metadata": {},
   "outputs": [],
   "source": []
  },
  {
   "cell_type": "code",
   "execution_count": 343,
   "metadata": {},
   "outputs": [],
   "source": [
    "\n",
    "\n",
    "#lcolumn = list(df1.columns.values)\n",
    "#lcolumn = lcolumn[:-2]\n",
    "#lcolumn = lcolumn[2:]\n",
    "lcolumn = [int(i) for i in lcolumn]\n"
   ]
  },
  {
   "cell_type": "code",
   "execution_count": null,
   "metadata": {},
   "outputs": [],
   "source": []
  },
  {
   "cell_type": "code",
   "execution_count": null,
   "metadata": {},
   "outputs": [],
   "source": []
  },
  {
   "cell_type": "code",
   "execution_count": null,
   "metadata": {},
   "outputs": [],
   "source": []
  },
  {
   "cell_type": "code",
   "execution_count": null,
   "metadata": {},
   "outputs": [],
   "source": []
  },
  {
   "cell_type": "code",
   "execution_count": 351,
   "metadata": {},
   "outputs": [],
   "source": [
    "l=[]\n",
    "df = pd.DataFrame(list(collection.find( { 'itemid' : citem })))\n",
    "df1 = df.drop(['_id' , 'itemid'], axis = 1)\n",
    "lcolumn = list(df1.columns.values)\n",
    "lcolumn = [int(i) for i in lcolumn]\n",
    "lvalue = list(df1.iloc[0])\n",
    "mapped = zip(lcolumn , lvalue)\n",
    "lis = list(mapped)\n",
    "candidates = defaultdict(float)\n",
    "\n",
    "for itemid, score in lis:\n",
    "    candidates[itemid] = score\n",
    "\n",
    "pos = 0\n",
    "for itemID, ratingSum in sorted(candidates.items(), key=itemgetter(1), reverse=True):\n",
    "    if (itemID != citem ):\n",
    "        l.append(itemID)\n",
    "        pos += 1\n",
    "        if (pos > number-1):\n",
    "            break\n",
    "        #l = [int(i) for i in l]  \n"
   ]
  },
  {
   "cell_type": "code",
   "execution_count": null,
   "metadata": {},
   "outputs": [],
   "source": []
  },
  {
   "cell_type": "code",
   "execution_count": 352,
   "metadata": {},
   "outputs": [
    {
     "data": {
      "text/html": [
       "<div>\n",
       "<style scoped>\n",
       "    .dataframe tbody tr th:only-of-type {\n",
       "        vertical-align: middle;\n",
       "    }\n",
       "\n",
       "    .dataframe tbody tr th {\n",
       "        vertical-align: top;\n",
       "    }\n",
       "\n",
       "    .dataframe thead th {\n",
       "        text-align: right;\n",
       "    }\n",
       "</style>\n",
       "<table border=\"1\" class=\"dataframe\">\n",
       "  <thead>\n",
       "    <tr style=\"text-align: right;\">\n",
       "      <th></th>\n",
       "      <th>600</th>\n",
       "      <th>602</th>\n",
       "      <th>604</th>\n",
       "      <th>872</th>\n",
       "      <th>873</th>\n",
       "      <th>875</th>\n",
       "      <th>868</th>\n",
       "      <th>1017</th>\n",
       "      <th>1019</th>\n",
       "      <th>895</th>\n",
       "      <th>...</th>\n",
       "      <th>298170</th>\n",
       "      <th>261306</th>\n",
       "      <th>75618</th>\n",
       "      <th>11463</th>\n",
       "      <th>262337</th>\n",
       "      <th>319014</th>\n",
       "      <th>202525</th>\n",
       "      <th>298146</th>\n",
       "      <th>262355</th>\n",
       "      <th>144068</th>\n",
       "    </tr>\n",
       "  </thead>\n",
       "  <tbody>\n",
       "    <tr>\n",
       "      <td>0</td>\n",
       "      <td>0.0</td>\n",
       "      <td>0.0</td>\n",
       "      <td>0.0</td>\n",
       "      <td>0.0</td>\n",
       "      <td>0.0</td>\n",
       "      <td>0.0</td>\n",
       "      <td>0.0</td>\n",
       "      <td>0.0</td>\n",
       "      <td>0.0</td>\n",
       "      <td>0.0</td>\n",
       "      <td>...</td>\n",
       "      <td>0.0</td>\n",
       "      <td>0.0</td>\n",
       "      <td>1.0</td>\n",
       "      <td>0.0</td>\n",
       "      <td>0.0</td>\n",
       "      <td>0.0</td>\n",
       "      <td>0.0</td>\n",
       "      <td>0.0</td>\n",
       "      <td>0.0</td>\n",
       "      <td>0.0</td>\n",
       "    </tr>\n",
       "  </tbody>\n",
       "</table>\n",
       "<p>1 rows × 15008 columns</p>\n",
       "</div>"
      ],
      "text/plain": [
       "   600  602  604  872  873  875  868  1017  1019  895  ...  298170  261306  \\\n",
       "0  0.0  0.0  0.0  0.0  0.0  0.0  0.0   0.0   0.0  0.0  ...     0.0     0.0   \n",
       "\n",
       "   75618  11463  262337  319014  202525  298146  262355  144068  \n",
       "0    1.0    0.0     0.0     0.0     0.0     0.0     0.0     0.0  \n",
       "\n",
       "[1 rows x 15008 columns]"
      ]
     },
     "execution_count": 352,
     "metadata": {},
     "output_type": "execute_result"
    }
   ],
   "source": [
    "df1"
   ]
  },
  {
   "cell_type": "code",
   "execution_count": null,
   "metadata": {},
   "outputs": [],
   "source": []
  },
  {
   "cell_type": "code",
   "execution_count": 1,
   "metadata": {},
   "outputs": [],
   "source": [
    "# sorted(candidates.items(), key=itemgetter(1), reverse=True)"
   ]
  },
  {
   "cell_type": "code",
   "execution_count": null,
   "metadata": {},
   "outputs": [],
   "source": []
  },
  {
   "cell_type": "code",
   "execution_count": null,
   "metadata": {},
   "outputs": [],
   "source": []
  },
  {
   "cell_type": "code",
   "execution_count": 287,
   "metadata": {},
   "outputs": [],
   "source": [
    "citem = int(itemid)\n",
    "number = int(number)\n",
    "l=[]\n",
    "l1=[]\n",
    "conn = MongoClient('192.168.1.101', 27017)\n",
    "mydb = conn.ankit_database\n",
    "collection = mydb.RecSysItem\n",
    "\n",
    "df1 = pd.DataFrame(list(collection.find({ 'itemid' :1 })))\n",
    "df2 = df1.drop(['_id' , 'itemid'], axis = 1)\n",
    "\n",
    "df3 = df2.sort_values(0, axis=1, ascending=False, inplace=False, kind='quicksort', na_position='last')\n",
    "l1 = list(df3.columns.values)\n",
    "\n",
    "#lcolumn = list(df1.columns.values)\n",
    "#lcolumn = lcolumn[:-2]\n",
    "#lcolumn = lcolumn[2:]\n",
    "lcolumn = [int(i) for i in lcolumn]\n",
    "\n",
    "\n",
    "\n",
    "\n"
   ]
  },
  {
   "cell_type": "code",
   "execution_count": null,
   "metadata": {},
   "outputs": [],
   "source": []
  },
  {
   "cell_type": "code",
   "execution_count": null,
   "metadata": {},
   "outputs": [],
   "source": []
  },
  {
   "cell_type": "code",
   "execution_count": 288,
   "metadata": {},
   "outputs": [],
   "source": [
    "if (citem in lcolumn):\n",
    "    df = pd.DataFrame(list(collection.find( { 'itemid' : citem })))\n",
    "    df1 = df.drop(['_id' , 'itemid'], axis = 1)\n",
    "    lcolumn = list(df1.columns.values)\n",
    "    lcolumn = [int(i) for i in lcolumn]\n",
    "    lvalue = list(df1.iloc[0])\n",
    "    mapped = zip(lcolumn , lvalue)\n",
    "    lis = list(mapped)\n",
    "    candidates = defaultdict(float)\n",
    "\n",
    "    for itemid, score in lis:\n",
    "        candidates[itemid] = score\n",
    "\n",
    "    pos = 0\n",
    "    for itemID, ratingSum in sorted(candidates.items(), key=itemgetter(1), reverse=True):\n",
    "        if (itemID != citem ):\n",
    "            l.append(itemID)\n",
    "            pos += 1\n",
    "            if (pos > number-1):\n",
    "                break\n",
    "            l = [int(i) for i in l]  \n",
    "\n",
    "\n",
    "else:\n",
    "    l = l1[:number]\n",
    "    l = [int(i) for i in l]\n",
    "    "
   ]
  },
  {
   "cell_type": "code",
   "execution_count": null,
   "metadata": {},
   "outputs": [],
   "source": []
  },
  {
   "cell_type": "code",
   "execution_count": 289,
   "metadata": {},
   "outputs": [
    {
     "data": {
      "text/plain": [
       "[164, 669, 767, 768, 436, 1294, 1197, 580, 728, 205]"
      ]
     },
     "execution_count": 289,
     "metadata": {},
     "output_type": "execute_result"
    }
   ],
   "source": [
    "l"
   ]
  },
  {
   "cell_type": "code",
   "execution_count": null,
   "metadata": {},
   "outputs": [],
   "source": []
  },
  {
   "cell_type": "code",
   "execution_count": null,
   "metadata": {},
   "outputs": [],
   "source": []
  },
  {
   "cell_type": "code",
   "execution_count": null,
   "metadata": {},
   "outputs": [],
   "source": []
  },
  {
   "cell_type": "code",
   "execution_count": null,
   "metadata": {},
   "outputs": [],
   "source": []
  },
  {
   "cell_type": "code",
   "execution_count": null,
   "metadata": {},
   "outputs": [],
   "source": []
  },
  {
   "cell_type": "code",
   "execution_count": null,
   "metadata": {},
   "outputs": [],
   "source": []
  },
  {
   "cell_type": "code",
   "execution_count": null,
   "metadata": {},
   "outputs": [],
   "source": []
  },
  {
   "cell_type": "code",
   "execution_count": null,
   "metadata": {},
   "outputs": [],
   "source": []
  },
  {
   "cell_type": "code",
   "execution_count": null,
   "metadata": {},
   "outputs": [],
   "source": []
  },
  {
   "cell_type": "code",
   "execution_count": null,
   "metadata": {},
   "outputs": [],
   "source": []
  },
  {
   "cell_type": "code",
   "execution_count": null,
   "metadata": {},
   "outputs": [],
   "source": []
  },
  {
   "cell_type": "code",
   "execution_count": null,
   "metadata": {},
   "outputs": [],
   "source": []
  },
  {
   "cell_type": "code",
   "execution_count": null,
   "metadata": {},
   "outputs": [],
   "source": []
  },
  {
   "cell_type": "code",
   "execution_count": null,
   "metadata": {},
   "outputs": [],
   "source": []
  },
  {
   "cell_type": "code",
   "execution_count": null,
   "metadata": {},
   "outputs": [],
   "source": []
  },
  {
   "cell_type": "code",
   "execution_count": null,
   "metadata": {},
   "outputs": [],
   "source": []
  }
 ],
 "metadata": {
  "kernelspec": {
   "display_name": "Python 3",
   "language": "python",
   "name": "python3"
  },
  "language_info": {
   "codemirror_mode": {
    "name": "ipython",
    "version": 3
   },
   "file_extension": ".py",
   "mimetype": "text/x-python",
   "name": "python",
   "nbconvert_exporter": "python",
   "pygments_lexer": "ipython3",
   "version": "3.7.4"
  }
 },
 "nbformat": 4,
 "nbformat_minor": 4
}
