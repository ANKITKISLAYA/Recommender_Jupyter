{
 "cells": [
  {
   "cell_type": "code",
   "execution_count": null,
   "metadata": {},
   "outputs": [],
   "source": []
  },
  {
   "cell_type": "markdown",
   "metadata": {},
   "source": [
    "# Grouping items on warehouseid and inserting it into mongodb"
   ]
  },
  {
   "cell_type": "code",
   "execution_count": null,
   "metadata": {},
   "outputs": [],
   "source": []
  },
  {
   "cell_type": "code",
   "execution_count": 1,
   "metadata": {},
   "outputs": [],
   "source": [
    "from pymongo import MongoClient \n",
    "import pandas as pd\n",
    "import sys\n",
    "import numpy as np"
   ]
  },
  {
   "cell_type": "code",
   "execution_count": null,
   "metadata": {},
   "outputs": [],
   "source": []
  },
  {
   "cell_type": "code",
   "execution_count": 2,
   "metadata": {},
   "outputs": [],
   "source": [
    "from surprise import NormalPredictor\n",
    "from surprise import Dataset\n",
    "from surprise import Reader\n",
    "from surprise.model_selection import cross_validate"
   ]
  },
  {
   "cell_type": "code",
   "execution_count": null,
   "metadata": {},
   "outputs": [],
   "source": []
  },
  {
   "cell_type": "code",
   "execution_count": 3,
   "metadata": {},
   "outputs": [
    {
     "name": "stdout",
     "output_type": "stream",
     "text": [
      "Connected successfully!!!\n"
     ]
    }
   ],
   "source": [
    "try: \n",
    "    conn = MongoClient('192.168.1.72', 27017) \n",
    "    print(\"Connected successfully!!!\") \n",
    "except:   \n",
    "    print(\"Could not connect to MongoDB\") \n"
   ]
  },
  {
   "cell_type": "code",
   "execution_count": null,
   "metadata": {},
   "outputs": [],
   "source": []
  },
  {
   "cell_type": "code",
   "execution_count": null,
   "metadata": {},
   "outputs": [],
   "source": []
  },
  {
   "cell_type": "markdown",
   "metadata": {},
   "source": [
    "### Reading excel file"
   ]
  },
  {
   "cell_type": "code",
   "execution_count": null,
   "metadata": {},
   "outputs": [],
   "source": []
  },
  {
   "cell_type": "code",
   "execution_count": null,
   "metadata": {},
   "outputs": [],
   "source": []
  },
  {
   "cell_type": "code",
   "execution_count": 4,
   "metadata": {},
   "outputs": [],
   "source": [
    "dfIM = pd.read_excel('ItemMastersData1.xlsx')"
   ]
  },
  {
   "cell_type": "code",
   "execution_count": 5,
   "metadata": {},
   "outputs": [
    {
     "data": {
      "text/html": [
       "<div>\n",
       "<style scoped>\n",
       "    .dataframe tbody tr th:only-of-type {\n",
       "        vertical-align: middle;\n",
       "    }\n",
       "\n",
       "    .dataframe tbody tr th {\n",
       "        vertical-align: top;\n",
       "    }\n",
       "\n",
       "    .dataframe thead th {\n",
       "        text-align: right;\n",
       "    }\n",
       "</style>\n",
       "<table border=\"1\" class=\"dataframe\">\n",
       "  <thead>\n",
       "    <tr style=\"text-align: right;\">\n",
       "      <th></th>\n",
       "      <th>itemname</th>\n",
       "      <th>ItemId</th>\n",
       "      <th>Number</th>\n",
       "      <th>WarehouseId</th>\n",
       "      <th>WarehouseName</th>\n",
       "      <th>active</th>\n",
       "    </tr>\n",
       "  </thead>\n",
       "  <tbody>\n",
       "    <tr>\n",
       "      <td>0</td>\n",
       "      <td>Kisan Kirana Kabuli Chana 5 Kg</td>\n",
       "      <td>23</td>\n",
       "      <td>AE10123</td>\n",
       "      <td>1</td>\n",
       "      <td>MP-INDB-1</td>\n",
       "      <td>1</td>\n",
       "    </tr>\n",
       "    <tr>\n",
       "      <td>1</td>\n",
       "      <td>Ghari Soap 5 MRP</td>\n",
       "      <td>138</td>\n",
       "      <td>AT104103</td>\n",
       "      <td>1</td>\n",
       "      <td>MP-INDB-1</td>\n",
       "      <td>1</td>\n",
       "    </tr>\n",
       "    <tr>\n",
       "      <td>2</td>\n",
       "      <td>Ghari Soap 5 MRP</td>\n",
       "      <td>140</td>\n",
       "      <td>AT104103</td>\n",
       "      <td>1</td>\n",
       "      <td>MP-INDB-1</td>\n",
       "      <td>1</td>\n",
       "    </tr>\n",
       "    <tr>\n",
       "      <td>3</td>\n",
       "      <td>Ghari Detergent 10 MRP 150 gm</td>\n",
       "      <td>144</td>\n",
       "      <td>AT104109</td>\n",
       "      <td>1</td>\n",
       "      <td>MP-INDB-1</td>\n",
       "      <td>1</td>\n",
       "    </tr>\n",
       "    <tr>\n",
       "      <td>4</td>\n",
       "      <td>Ghari Detergent 10 MRP 150 gm</td>\n",
       "      <td>145</td>\n",
       "      <td>AT104109</td>\n",
       "      <td>1</td>\n",
       "      <td>MP-INDB-1</td>\n",
       "      <td>1</td>\n",
       "    </tr>\n",
       "    <tr>\n",
       "      <td>...</td>\n",
       "      <td>...</td>\n",
       "      <td>...</td>\n",
       "      <td>...</td>\n",
       "      <td>...</td>\n",
       "      <td>...</td>\n",
       "      <td>...</td>\n",
       "    </tr>\n",
       "    <tr>\n",
       "      <td>8884</td>\n",
       "      <td>Santoor Super Saver White  40 MRP 4*60 Combo</td>\n",
       "      <td>350515</td>\n",
       "      <td>BA2051359</td>\n",
       "      <td>9</td>\n",
       "      <td>MP-BPL-1</td>\n",
       "      <td>1</td>\n",
       "    </tr>\n",
       "    <tr>\n",
       "      <td>8885</td>\n",
       "      <td>Santoor Super Saver White  94 MRP 4*100 Combo</td>\n",
       "      <td>350682</td>\n",
       "      <td>BA2051360</td>\n",
       "      <td>9</td>\n",
       "      <td>MP-BPL-1</td>\n",
       "      <td>1</td>\n",
       "    </tr>\n",
       "    <tr>\n",
       "      <td>8886</td>\n",
       "      <td>Parle Krack Jack 10 MRP</td>\n",
       "      <td>351899</td>\n",
       "      <td>AW166296</td>\n",
       "      <td>55</td>\n",
       "      <td>GJ-AMD-1</td>\n",
       "      <td>1</td>\n",
       "    </tr>\n",
       "    <tr>\n",
       "      <td>8887</td>\n",
       "      <td>Parle Krack Jack 10 MRP</td>\n",
       "      <td>351915</td>\n",
       "      <td>AW166296</td>\n",
       "      <td>78</td>\n",
       "      <td>GJ-AMD-2</td>\n",
       "      <td>1</td>\n",
       "    </tr>\n",
       "    <tr>\n",
       "      <td>8888</td>\n",
       "      <td>Parle Krack Jack 10 MRP</td>\n",
       "      <td>351923</td>\n",
       "      <td>AW166296</td>\n",
       "      <td>92</td>\n",
       "      <td>GJ-AMD-3</td>\n",
       "      <td>1</td>\n",
       "    </tr>\n",
       "  </tbody>\n",
       "</table>\n",
       "<p>8889 rows × 6 columns</p>\n",
       "</div>"
      ],
      "text/plain": [
       "                                           itemname  ItemId     Number  \\\n",
       "0                    Kisan Kirana Kabuli Chana 5 Kg      23    AE10123   \n",
       "1                                  Ghari Soap 5 MRP     138   AT104103   \n",
       "2                                  Ghari Soap 5 MRP     140   AT104103   \n",
       "3                     Ghari Detergent 10 MRP 150 gm     144   AT104109   \n",
       "4                     Ghari Detergent 10 MRP 150 gm     145   AT104109   \n",
       "...                                             ...     ...        ...   \n",
       "8884   Santoor Super Saver White  40 MRP 4*60 Combo  350515  BA2051359   \n",
       "8885  Santoor Super Saver White  94 MRP 4*100 Combo  350682  BA2051360   \n",
       "8886                        Parle Krack Jack 10 MRP  351899   AW166296   \n",
       "8887                        Parle Krack Jack 10 MRP  351915   AW166296   \n",
       "8888                        Parle Krack Jack 10 MRP  351923   AW166296   \n",
       "\n",
       "      WarehouseId WarehouseName  active  \n",
       "0               1     MP-INDB-1       1  \n",
       "1               1     MP-INDB-1       1  \n",
       "2               1     MP-INDB-1       1  \n",
       "3               1     MP-INDB-1       1  \n",
       "4               1     MP-INDB-1       1  \n",
       "...           ...           ...     ...  \n",
       "8884            9      MP-BPL-1       1  \n",
       "8885            9      MP-BPL-1       1  \n",
       "8886           55      GJ-AMD-1       1  \n",
       "8887           78      GJ-AMD-2       1  \n",
       "8888           92      GJ-AMD-3       1  \n",
       "\n",
       "[8889 rows x 6 columns]"
      ]
     },
     "execution_count": 5,
     "metadata": {},
     "output_type": "execute_result"
    }
   ],
   "source": [
    "dfIM"
   ]
  },
  {
   "cell_type": "code",
   "execution_count": null,
   "metadata": {},
   "outputs": [],
   "source": []
  },
  {
   "cell_type": "code",
   "execution_count": 6,
   "metadata": {},
   "outputs": [],
   "source": [
    "#dfIM.drop(['B', 'C'], axis=1)"
   ]
  },
  {
   "cell_type": "code",
   "execution_count": null,
   "metadata": {},
   "outputs": [],
   "source": []
  },
  {
   "cell_type": "code",
   "execution_count": 7,
   "metadata": {},
   "outputs": [
    {
     "data": {
      "text/html": [
       "<div>\n",
       "<style scoped>\n",
       "    .dataframe tbody tr th:only-of-type {\n",
       "        vertical-align: middle;\n",
       "    }\n",
       "\n",
       "    .dataframe tbody tr th {\n",
       "        vertical-align: top;\n",
       "    }\n",
       "\n",
       "    .dataframe thead th {\n",
       "        text-align: right;\n",
       "    }\n",
       "</style>\n",
       "<table border=\"1\" class=\"dataframe\">\n",
       "  <thead>\n",
       "    <tr style=\"text-align: right;\">\n",
       "      <th></th>\n",
       "      <th>WarehouseId</th>\n",
       "      <th>ItemId</th>\n",
       "    </tr>\n",
       "  </thead>\n",
       "  <tbody>\n",
       "    <tr>\n",
       "      <td>0</td>\n",
       "      <td>1</td>\n",
       "      <td>{23, 217126, 178227, 13443, 39006, 266342, 178...</td>\n",
       "    </tr>\n",
       "    <tr>\n",
       "      <td>1</td>\n",
       "      <td>6</td>\n",
       "      <td>{3098, 3099, 3101}</td>\n",
       "    </tr>\n",
       "    <tr>\n",
       "      <td>2</td>\n",
       "      <td>7</td>\n",
       "      <td>{194583, 217127, 4138, 4139, 4140, 4143, 4146,...</td>\n",
       "    </tr>\n",
       "    <tr>\n",
       "      <td>3</td>\n",
       "      <td>9</td>\n",
       "      <td>{178176, 38931, 8214, 8220, 8221, 264185, 2744...</td>\n",
       "    </tr>\n",
       "    <tr>\n",
       "      <td>4</td>\n",
       "      <td>10</td>\n",
       "      <td>{10240, 10241, 10242, 178177, 268290, 10245, 1...</td>\n",
       "    </tr>\n",
       "    <tr>\n",
       "      <td>5</td>\n",
       "      <td>11</td>\n",
       "      <td>{12289, 178178, 12291, 268291, 12295, 12297, 2...</td>\n",
       "    </tr>\n",
       "    <tr>\n",
       "      <td>6</td>\n",
       "      <td>12</td>\n",
       "      <td>{178179, 14364, 14365, 14367, 14368, 14369, 14...</td>\n",
       "    </tr>\n",
       "    <tr>\n",
       "      <td>7</td>\n",
       "      <td>33</td>\n",
       "      <td>{178197, 77855, 77861, 77862, 77863, 96303, 77...</td>\n",
       "    </tr>\n",
       "    <tr>\n",
       "      <td>8</td>\n",
       "      <td>52</td>\n",
       "      <td>{331837, 217168, 176217, 225374, 133244, 13324...</td>\n",
       "    </tr>\n",
       "    <tr>\n",
       "      <td>9</td>\n",
       "      <td>53</td>\n",
       "      <td>{194569, 141328, 217105, 139288, 178216, 14137...</td>\n",
       "    </tr>\n",
       "    <tr>\n",
       "      <td>10</td>\n",
       "      <td>54</td>\n",
       "      <td>{139265, 266242, 139268, 141318, 139271, 13927...</td>\n",
       "    </tr>\n",
       "    <tr>\n",
       "      <td>11</td>\n",
       "      <td>55</td>\n",
       "      <td>{141329, 141332, 141335, 141338, 141340, 14339...</td>\n",
       "    </tr>\n",
       "    <tr>\n",
       "      <td>12</td>\n",
       "      <td>67</td>\n",
       "      <td>{188162, 287244, 190734, 229518, 188946, 19062...</td>\n",
       "    </tr>\n",
       "    <tr>\n",
       "      <td>13</td>\n",
       "      <td>74</td>\n",
       "      <td>{200704, 202758, 200722, 200724, 200727, 20072...</td>\n",
       "    </tr>\n",
       "    <tr>\n",
       "      <td>14</td>\n",
       "      <td>76</td>\n",
       "      <td>{208897, 208938, 208939, 208942, 208943, 20689...</td>\n",
       "    </tr>\n",
       "    <tr>\n",
       "      <td>15</td>\n",
       "      <td>77</td>\n",
       "      <td>{213009, 305169, 213011, 213012, 213013, 21301...</td>\n",
       "    </tr>\n",
       "    <tr>\n",
       "      <td>16</td>\n",
       "      <td>78</td>\n",
       "      <td>{215052, 215058, 215059, 215061, 215085, 21508...</td>\n",
       "    </tr>\n",
       "    <tr>\n",
       "      <td>17</td>\n",
       "      <td>86</td>\n",
       "      <td>{241679, 241682, 241688, 243737, 241693, 24374...</td>\n",
       "    </tr>\n",
       "    <tr>\n",
       "      <td>18</td>\n",
       "      <td>92</td>\n",
       "      <td>{262155, 262174, 262176, 340075, 327789, 26227...</td>\n",
       "    </tr>\n",
       "    <tr>\n",
       "      <td>19</td>\n",
       "      <td>95</td>\n",
       "      <td>{272385, 272386, 272389, 299016, 270350, 27035...</td>\n",
       "    </tr>\n",
       "    <tr>\n",
       "      <td>20</td>\n",
       "      <td>164</td>\n",
       "      <td>{306818, 305675, 304397, 306961, 305817, 30453...</td>\n",
       "    </tr>\n",
       "    <tr>\n",
       "      <td>21</td>\n",
       "      <td>169</td>\n",
       "      <td>{309700, 309541, 310854, 309671, 310855, 30954...</td>\n",
       "    </tr>\n",
       "  </tbody>\n",
       "</table>\n",
       "</div>"
      ],
      "text/plain": [
       "    WarehouseId                                             ItemId\n",
       "0             1  {23, 217126, 178227, 13443, 39006, 266342, 178...\n",
       "1             6                                 {3098, 3099, 3101}\n",
       "2             7  {194583, 217127, 4138, 4139, 4140, 4143, 4146,...\n",
       "3             9  {178176, 38931, 8214, 8220, 8221, 264185, 2744...\n",
       "4            10  {10240, 10241, 10242, 178177, 268290, 10245, 1...\n",
       "5            11  {12289, 178178, 12291, 268291, 12295, 12297, 2...\n",
       "6            12  {178179, 14364, 14365, 14367, 14368, 14369, 14...\n",
       "7            33  {178197, 77855, 77861, 77862, 77863, 96303, 77...\n",
       "8            52  {331837, 217168, 176217, 225374, 133244, 13324...\n",
       "9            53  {194569, 141328, 217105, 139288, 178216, 14137...\n",
       "10           54  {139265, 266242, 139268, 141318, 139271, 13927...\n",
       "11           55  {141329, 141332, 141335, 141338, 141340, 14339...\n",
       "12           67  {188162, 287244, 190734, 229518, 188946, 19062...\n",
       "13           74  {200704, 202758, 200722, 200724, 200727, 20072...\n",
       "14           76  {208897, 208938, 208939, 208942, 208943, 20689...\n",
       "15           77  {213009, 305169, 213011, 213012, 213013, 21301...\n",
       "16           78  {215052, 215058, 215059, 215061, 215085, 21508...\n",
       "17           86  {241679, 241682, 241688, 243737, 241693, 24374...\n",
       "18           92  {262155, 262174, 262176, 340075, 327789, 26227...\n",
       "19           95  {272385, 272386, 272389, 299016, 270350, 27035...\n",
       "20          164  {306818, 305675, 304397, 306961, 305817, 30453...\n",
       "21          169  {309700, 309541, 310854, 309671, 310855, 30954..."
      ]
     },
     "execution_count": 7,
     "metadata": {},
     "output_type": "execute_result"
    }
   ],
   "source": [
    "cIM = dfIM.groupby('WarehouseId')['ItemId'].apply(set)\n",
    "cIM = cIM.to_frame()\n",
    "cIM.reset_index()"
   ]
  },
  {
   "cell_type": "code",
   "execution_count": null,
   "metadata": {},
   "outputs": [],
   "source": []
  },
  {
   "cell_type": "code",
   "execution_count": 8,
   "metadata": {},
   "outputs": [],
   "source": [
    "cIM['ItemId'] = [list(i) for i in cIM['ItemId']]"
   ]
  },
  {
   "cell_type": "code",
   "execution_count": null,
   "metadata": {},
   "outputs": [],
   "source": []
  },
  {
   "cell_type": "code",
   "execution_count": 9,
   "metadata": {},
   "outputs": [
    {
     "data": {
      "text/html": [
       "<div>\n",
       "<style scoped>\n",
       "    .dataframe tbody tr th:only-of-type {\n",
       "        vertical-align: middle;\n",
       "    }\n",
       "\n",
       "    .dataframe tbody tr th {\n",
       "        vertical-align: top;\n",
       "    }\n",
       "\n",
       "    .dataframe thead th {\n",
       "        text-align: right;\n",
       "    }\n",
       "</style>\n",
       "<table border=\"1\" class=\"dataframe\">\n",
       "  <thead>\n",
       "    <tr style=\"text-align: right;\">\n",
       "      <th></th>\n",
       "      <th>item</th>\n",
       "    </tr>\n",
       "    <tr>\n",
       "      <th>WarehouseId</th>\n",
       "      <th></th>\n",
       "    </tr>\n",
       "  </thead>\n",
       "  <tbody>\n",
       "    <tr>\n",
       "      <td>1</td>\n",
       "      <td>[23, 217126, 178227, 13443, 39006, 266342, 178...</td>\n",
       "    </tr>\n",
       "    <tr>\n",
       "      <td>6</td>\n",
       "      <td>[3098, 3099, 3101]</td>\n",
       "    </tr>\n",
       "    <tr>\n",
       "      <td>7</td>\n",
       "      <td>[194583, 217127, 4138, 4139, 4140, 4143, 4146,...</td>\n",
       "    </tr>\n",
       "    <tr>\n",
       "      <td>9</td>\n",
       "      <td>[178176, 38931, 8214, 8220, 8221, 264185, 2744...</td>\n",
       "    </tr>\n",
       "    <tr>\n",
       "      <td>10</td>\n",
       "      <td>[10240, 10241, 10242, 178177, 268290, 10245, 1...</td>\n",
       "    </tr>\n",
       "    <tr>\n",
       "      <td>11</td>\n",
       "      <td>[12289, 178178, 12291, 268291, 12295, 12297, 2...</td>\n",
       "    </tr>\n",
       "    <tr>\n",
       "      <td>12</td>\n",
       "      <td>[178179, 14364, 14365, 14367, 14368, 14369, 14...</td>\n",
       "    </tr>\n",
       "    <tr>\n",
       "      <td>33</td>\n",
       "      <td>[178197, 77855, 77861, 77862, 77863, 96303, 77...</td>\n",
       "    </tr>\n",
       "    <tr>\n",
       "      <td>52</td>\n",
       "      <td>[331837, 217168, 176217, 225374, 133244, 13324...</td>\n",
       "    </tr>\n",
       "    <tr>\n",
       "      <td>53</td>\n",
       "      <td>[194569, 141328, 217105, 139288, 178216, 14137...</td>\n",
       "    </tr>\n",
       "    <tr>\n",
       "      <td>54</td>\n",
       "      <td>[139265, 266242, 139268, 141318, 139271, 13927...</td>\n",
       "    </tr>\n",
       "    <tr>\n",
       "      <td>55</td>\n",
       "      <td>[141329, 141332, 141335, 141338, 141340, 14339...</td>\n",
       "    </tr>\n",
       "    <tr>\n",
       "      <td>67</td>\n",
       "      <td>[188162, 287244, 190734, 229518, 188946, 19062...</td>\n",
       "    </tr>\n",
       "    <tr>\n",
       "      <td>74</td>\n",
       "      <td>[200704, 202758, 200722, 200724, 200727, 20072...</td>\n",
       "    </tr>\n",
       "    <tr>\n",
       "      <td>76</td>\n",
       "      <td>[208897, 208938, 208939, 208942, 208943, 20689...</td>\n",
       "    </tr>\n",
       "    <tr>\n",
       "      <td>77</td>\n",
       "      <td>[213009, 305169, 213011, 213012, 213013, 21301...</td>\n",
       "    </tr>\n",
       "    <tr>\n",
       "      <td>78</td>\n",
       "      <td>[215052, 215058, 215059, 215061, 215085, 21508...</td>\n",
       "    </tr>\n",
       "    <tr>\n",
       "      <td>86</td>\n",
       "      <td>[241679, 241682, 241688, 243737, 241693, 24374...</td>\n",
       "    </tr>\n",
       "    <tr>\n",
       "      <td>92</td>\n",
       "      <td>[262155, 262174, 262176, 340075, 327789, 26227...</td>\n",
       "    </tr>\n",
       "    <tr>\n",
       "      <td>95</td>\n",
       "      <td>[272385, 272386, 272389, 299016, 270350, 27035...</td>\n",
       "    </tr>\n",
       "    <tr>\n",
       "      <td>164</td>\n",
       "      <td>[306818, 305675, 304397, 306961, 305817, 30453...</td>\n",
       "    </tr>\n",
       "    <tr>\n",
       "      <td>169</td>\n",
       "      <td>[309700, 309541, 310854, 309671, 310855, 30954...</td>\n",
       "    </tr>\n",
       "  </tbody>\n",
       "</table>\n",
       "</div>"
      ],
      "text/plain": [
       "                                                          item\n",
       "WarehouseId                                                   \n",
       "1            [23, 217126, 178227, 13443, 39006, 266342, 178...\n",
       "6                                           [3098, 3099, 3101]\n",
       "7            [194583, 217127, 4138, 4139, 4140, 4143, 4146,...\n",
       "9            [178176, 38931, 8214, 8220, 8221, 264185, 2744...\n",
       "10           [10240, 10241, 10242, 178177, 268290, 10245, 1...\n",
       "11           [12289, 178178, 12291, 268291, 12295, 12297, 2...\n",
       "12           [178179, 14364, 14365, 14367, 14368, 14369, 14...\n",
       "33           [178197, 77855, 77861, 77862, 77863, 96303, 77...\n",
       "52           [331837, 217168, 176217, 225374, 133244, 13324...\n",
       "53           [194569, 141328, 217105, 139288, 178216, 14137...\n",
       "54           [139265, 266242, 139268, 141318, 139271, 13927...\n",
       "55           [141329, 141332, 141335, 141338, 141340, 14339...\n",
       "67           [188162, 287244, 190734, 229518, 188946, 19062...\n",
       "74           [200704, 202758, 200722, 200724, 200727, 20072...\n",
       "76           [208897, 208938, 208939, 208942, 208943, 20689...\n",
       "77           [213009, 305169, 213011, 213012, 213013, 21301...\n",
       "78           [215052, 215058, 215059, 215061, 215085, 21508...\n",
       "86           [241679, 241682, 241688, 243737, 241693, 24374...\n",
       "92           [262155, 262174, 262176, 340075, 327789, 26227...\n",
       "95           [272385, 272386, 272389, 299016, 270350, 27035...\n",
       "164          [306818, 305675, 304397, 306961, 305817, 30453...\n",
       "169          [309700, 309541, 310854, 309671, 310855, 30954..."
      ]
     },
     "execution_count": 9,
     "metadata": {},
     "output_type": "execute_result"
    }
   ],
   "source": [
    "cIM.rename(columns={\"WarehouseId\": \"WarehouseId\", \"ItemId\": \"item\"})"
   ]
  },
  {
   "cell_type": "code",
   "execution_count": null,
   "metadata": {},
   "outputs": [],
   "source": []
  },
  {
   "cell_type": "code",
   "execution_count": 10,
   "metadata": {},
   "outputs": [],
   "source": [
    "cIM2 = cIM.reset_index()"
   ]
  },
  {
   "cell_type": "code",
   "execution_count": null,
   "metadata": {},
   "outputs": [],
   "source": []
  },
  {
   "cell_type": "code",
   "execution_count": null,
   "metadata": {},
   "outputs": [],
   "source": []
  },
  {
   "cell_type": "code",
   "execution_count": 11,
   "metadata": {},
   "outputs": [
    {
     "name": "stdout",
     "output_type": "stream",
     "text": [
      "Wall time: 0 ns\n"
     ]
    }
   ],
   "source": [
    "%time data_dict = cIM2.to_dict('records')"
   ]
  },
  {
   "cell_type": "code",
   "execution_count": null,
   "metadata": {},
   "outputs": [],
   "source": []
  },
  {
   "cell_type": "code",
   "execution_count": null,
   "metadata": {},
   "outputs": [],
   "source": []
  },
  {
   "cell_type": "markdown",
   "metadata": {},
   "source": [
    "#### reading the data from database\n"
   ]
  },
  {
   "cell_type": "code",
   "execution_count": null,
   "metadata": {},
   "outputs": [],
   "source": []
  },
  {
   "cell_type": "code",
   "execution_count": null,
   "metadata": {},
   "outputs": [],
   "source": []
  },
  {
   "cell_type": "code",
   "execution_count": 4,
   "metadata": {},
   "outputs": [
    {
     "name": "stdout",
     "output_type": "stream",
     "text": [
      "Wall time: 38.7 s\n"
     ]
    }
   ],
   "source": [
    "mydb = conn.SK\n",
    "collection1 = mydb.OrderMaster\n",
    "%time df1 = pd.DataFrame(list(collection1.find({},{\"Skcode\":1,\"orderDetails\":1,\"WarehouseId\":1,\"_id\":0})))"
   ]
  },
  {
   "cell_type": "code",
   "execution_count": null,
   "metadata": {},
   "outputs": [],
   "source": []
  },
  {
   "cell_type": "code",
   "execution_count": null,
   "metadata": {},
   "outputs": [],
   "source": []
  },
  {
   "cell_type": "code",
   "execution_count": 5,
   "metadata": {},
   "outputs": [
    {
     "data": {
      "text/html": [
       "<div>\n",
       "<style scoped>\n",
       "    .dataframe tbody tr th:only-of-type {\n",
       "        vertical-align: middle;\n",
       "    }\n",
       "\n",
       "    .dataframe tbody tr th {\n",
       "        vertical-align: top;\n",
       "    }\n",
       "\n",
       "    .dataframe thead th {\n",
       "        text-align: right;\n",
       "    }\n",
       "</style>\n",
       "<table border=\"1\" class=\"dataframe\">\n",
       "  <thead>\n",
       "    <tr style=\"text-align: right;\">\n",
       "      <th></th>\n",
       "      <th>Skcode</th>\n",
       "      <th>WarehouseId</th>\n",
       "      <th>orderDetails</th>\n",
       "    </tr>\n",
       "  </thead>\n",
       "  <tbody>\n",
       "    <tr>\n",
       "      <td>0</td>\n",
       "      <td>SK8393</td>\n",
       "      <td>1</td>\n",
       "      <td>[{'GUID': f7667b25-5aea-0e48-8c99-f7105851cd50...</td>\n",
       "    </tr>\n",
       "    <tr>\n",
       "      <td>1</td>\n",
       "      <td>SK10454</td>\n",
       "      <td>7</td>\n",
       "      <td>[{'GUID': d6f02625-f65d-eb47-807b-5f6a37984c4f...</td>\n",
       "    </tr>\n",
       "    <tr>\n",
       "      <td>2</td>\n",
       "      <td>SK4160</td>\n",
       "      <td>1</td>\n",
       "      <td>[{'GUID': 5d89d8c5-985d-0441-80ec-f4569d641d8c...</td>\n",
       "    </tr>\n",
       "    <tr>\n",
       "      <td>3</td>\n",
       "      <td>SK9511</td>\n",
       "      <td>1</td>\n",
       "      <td>[{'GUID': 8257ebaa-8d5f-d74c-9bae-9d4842d08cbe...</td>\n",
       "    </tr>\n",
       "    <tr>\n",
       "      <td>4</td>\n",
       "      <td>SK8599</td>\n",
       "      <td>1</td>\n",
       "      <td>[{'GUID': 50bf8fda-7076-a849-96b6-034e024deb4c...</td>\n",
       "    </tr>\n",
       "    <tr>\n",
       "      <td>...</td>\n",
       "      <td>...</td>\n",
       "      <td>...</td>\n",
       "      <td>...</td>\n",
       "    </tr>\n",
       "    <tr>\n",
       "      <td>234779</td>\n",
       "      <td>SK10612</td>\n",
       "      <td>9</td>\n",
       "      <td>[{'GUID': 65804773-fbab-c546-89e8-1ff425b83fcc...</td>\n",
       "    </tr>\n",
       "    <tr>\n",
       "      <td>234780</td>\n",
       "      <td>SK32014</td>\n",
       "      <td>55</td>\n",
       "      <td>[{'GUID': 3629b028-d1f6-6d41-9c23-c277d2325ecd...</td>\n",
       "    </tr>\n",
       "    <tr>\n",
       "      <td>234781</td>\n",
       "      <td>SK64077</td>\n",
       "      <td>33</td>\n",
       "      <td>[{'GUID': d997747c-9aa6-b54d-8973-c972413266e6...</td>\n",
       "    </tr>\n",
       "    <tr>\n",
       "      <td>234782</td>\n",
       "      <td>SK15021</td>\n",
       "      <td>10</td>\n",
       "      <td>[{'GUID': 720eac9e-f973-bd4e-b122-89fc9a3195df...</td>\n",
       "    </tr>\n",
       "    <tr>\n",
       "      <td>234783</td>\n",
       "      <td>SK57666</td>\n",
       "      <td>67</td>\n",
       "      <td>[{'GUID': f5893baf-fa0f-1a40-9e14-4735bd075f80...</td>\n",
       "    </tr>\n",
       "  </tbody>\n",
       "</table>\n",
       "<p>234784 rows × 3 columns</p>\n",
       "</div>"
      ],
      "text/plain": [
       "         Skcode  WarehouseId  \\\n",
       "0        SK8393            1   \n",
       "1       SK10454            7   \n",
       "2        SK4160            1   \n",
       "3        SK9511            1   \n",
       "4        SK8599            1   \n",
       "...         ...          ...   \n",
       "234779  SK10612            9   \n",
       "234780  SK32014           55   \n",
       "234781  SK64077           33   \n",
       "234782  SK15021           10   \n",
       "234783  SK57666           67   \n",
       "\n",
       "                                             orderDetails  \n",
       "0       [{'GUID': f7667b25-5aea-0e48-8c99-f7105851cd50...  \n",
       "1       [{'GUID': d6f02625-f65d-eb47-807b-5f6a37984c4f...  \n",
       "2       [{'GUID': 5d89d8c5-985d-0441-80ec-f4569d641d8c...  \n",
       "3       [{'GUID': 8257ebaa-8d5f-d74c-9bae-9d4842d08cbe...  \n",
       "4       [{'GUID': 50bf8fda-7076-a849-96b6-034e024deb4c...  \n",
       "...                                                   ...  \n",
       "234779  [{'GUID': 65804773-fbab-c546-89e8-1ff425b83fcc...  \n",
       "234780  [{'GUID': 3629b028-d1f6-6d41-9c23-c277d2325ecd...  \n",
       "234781  [{'GUID': d997747c-9aa6-b54d-8973-c972413266e6...  \n",
       "234782  [{'GUID': 720eac9e-f973-bd4e-b122-89fc9a3195df...  \n",
       "234783  [{'GUID': f5893baf-fa0f-1a40-9e14-4735bd075f80...  \n",
       "\n",
       "[234784 rows x 3 columns]"
      ]
     },
     "execution_count": 5,
     "metadata": {},
     "output_type": "execute_result"
    }
   ],
   "source": [
    "df1"
   ]
  },
  {
   "cell_type": "code",
   "execution_count": null,
   "metadata": {},
   "outputs": [],
   "source": []
  },
  {
   "cell_type": "code",
   "execution_count": null,
   "metadata": {},
   "outputs": [],
   "source": []
  },
  {
   "cell_type": "markdown",
   "metadata": {},
   "source": [
    "#### extracting itemid's from orderDetails and exploding it using explode function"
   ]
  },
  {
   "cell_type": "code",
   "execution_count": null,
   "metadata": {},
   "outputs": [],
   "source": []
  },
  {
   "cell_type": "code",
   "execution_count": 6,
   "metadata": {},
   "outputs": [],
   "source": [
    "df1[\"item\"] = [[i[j]['ItemId'] for j in range(len(i))] for i in df1['orderDetails']]\n",
    "df1 = df1[['Skcode','item',\"WarehouseId\"]]\n",
    "df2 = df1.explode('item')"
   ]
  },
  {
   "cell_type": "code",
   "execution_count": null,
   "metadata": {},
   "outputs": [],
   "source": []
  },
  {
   "cell_type": "code",
   "execution_count": 15,
   "metadata": {},
   "outputs": [
    {
     "data": {
      "text/html": [
       "<div>\n",
       "<style scoped>\n",
       "    .dataframe tbody tr th:only-of-type {\n",
       "        vertical-align: middle;\n",
       "    }\n",
       "\n",
       "    .dataframe tbody tr th {\n",
       "        vertical-align: top;\n",
       "    }\n",
       "\n",
       "    .dataframe thead th {\n",
       "        text-align: right;\n",
       "    }\n",
       "</style>\n",
       "<table border=\"1\" class=\"dataframe\">\n",
       "  <thead>\n",
       "    <tr style=\"text-align: right;\">\n",
       "      <th></th>\n",
       "      <th>Skcode</th>\n",
       "      <th>item</th>\n",
       "      <th>WarehouseId</th>\n",
       "    </tr>\n",
       "  </thead>\n",
       "  <tbody>\n",
       "    <tr>\n",
       "      <td>0</td>\n",
       "      <td>SK8393</td>\n",
       "      <td>1576</td>\n",
       "      <td>1</td>\n",
       "    </tr>\n",
       "    <tr>\n",
       "      <td>0</td>\n",
       "      <td>SK8393</td>\n",
       "      <td>923</td>\n",
       "      <td>1</td>\n",
       "    </tr>\n",
       "    <tr>\n",
       "      <td>0</td>\n",
       "      <td>SK8393</td>\n",
       "      <td>933</td>\n",
       "      <td>1</td>\n",
       "    </tr>\n",
       "    <tr>\n",
       "      <td>0</td>\n",
       "      <td>SK8393</td>\n",
       "      <td>1197</td>\n",
       "      <td>1</td>\n",
       "    </tr>\n",
       "    <tr>\n",
       "      <td>0</td>\n",
       "      <td>SK8393</td>\n",
       "      <td>1784</td>\n",
       "      <td>1</td>\n",
       "    </tr>\n",
       "    <tr>\n",
       "      <td>...</td>\n",
       "      <td>...</td>\n",
       "      <td>...</td>\n",
       "      <td>...</td>\n",
       "    </tr>\n",
       "    <tr>\n",
       "      <td>234781</td>\n",
       "      <td>SK64077</td>\n",
       "      <td>77801</td>\n",
       "      <td>33</td>\n",
       "    </tr>\n",
       "    <tr>\n",
       "      <td>234781</td>\n",
       "      <td>SK64077</td>\n",
       "      <td>77306</td>\n",
       "      <td>33</td>\n",
       "    </tr>\n",
       "    <tr>\n",
       "      <td>234781</td>\n",
       "      <td>SK64077</td>\n",
       "      <td>77067</td>\n",
       "      <td>33</td>\n",
       "    </tr>\n",
       "    <tr>\n",
       "      <td>234782</td>\n",
       "      <td>SK15021</td>\n",
       "      <td>31937</td>\n",
       "      <td>10</td>\n",
       "    </tr>\n",
       "    <tr>\n",
       "      <td>234783</td>\n",
       "      <td>SK57666</td>\n",
       "      <td>286079</td>\n",
       "      <td>67</td>\n",
       "    </tr>\n",
       "  </tbody>\n",
       "</table>\n",
       "<p>945118 rows × 3 columns</p>\n",
       "</div>"
      ],
      "text/plain": [
       "         Skcode    item  WarehouseId\n",
       "0        SK8393    1576            1\n",
       "0        SK8393     923            1\n",
       "0        SK8393     933            1\n",
       "0        SK8393    1197            1\n",
       "0        SK8393    1784            1\n",
       "...         ...     ...          ...\n",
       "234781  SK64077   77801           33\n",
       "234781  SK64077   77306           33\n",
       "234781  SK64077   77067           33\n",
       "234782  SK15021   31937           10\n",
       "234783  SK57666  286079           67\n",
       "\n",
       "[945118 rows x 3 columns]"
      ]
     },
     "execution_count": 15,
     "metadata": {},
     "output_type": "execute_result"
    }
   ],
   "source": [
    "df2"
   ]
  },
  {
   "cell_type": "code",
   "execution_count": null,
   "metadata": {},
   "outputs": [],
   "source": []
  },
  {
   "cell_type": "code",
   "execution_count": 16,
   "metadata": {},
   "outputs": [],
   "source": [
    "df3 = df2.dropna()"
   ]
  },
  {
   "cell_type": "code",
   "execution_count": null,
   "metadata": {},
   "outputs": [],
   "source": []
  },
  {
   "cell_type": "code",
   "execution_count": 19,
   "metadata": {},
   "outputs": [],
   "source": [
    "test=df3.loc[df3.WarehouseId == 7]"
   ]
  },
  {
   "cell_type": "code",
   "execution_count": 22,
   "metadata": {},
   "outputs": [
    {
     "data": {
      "text/plain": [
       "51"
      ]
     },
     "execution_count": 22,
     "metadata": {},
     "output_type": "execute_result"
    }
   ],
   "source": [
    "test['item'].min()"
   ]
  },
  {
   "cell_type": "code",
   "execution_count": null,
   "metadata": {},
   "outputs": [],
   "source": []
  },
  {
   "cell_type": "code",
   "execution_count": 9,
   "metadata": {},
   "outputs": [
    {
     "data": {
      "text/plain": [
       "14669"
      ]
     },
     "execution_count": 9,
     "metadata": {},
     "output_type": "execute_result"
    }
   ],
   "source": [
    "df3.item.nunique()"
   ]
  },
  {
   "cell_type": "code",
   "execution_count": null,
   "metadata": {},
   "outputs": [],
   "source": []
  },
  {
   "cell_type": "code",
   "execution_count": null,
   "metadata": {},
   "outputs": [],
   "source": []
  },
  {
   "cell_type": "code",
   "execution_count": 10,
   "metadata": {},
   "outputs": [
    {
     "data": {
      "text/html": [
       "<div>\n",
       "<style scoped>\n",
       "    .dataframe tbody tr th:only-of-type {\n",
       "        vertical-align: middle;\n",
       "    }\n",
       "\n",
       "    .dataframe tbody tr th {\n",
       "        vertical-align: top;\n",
       "    }\n",
       "\n",
       "    .dataframe thead th {\n",
       "        text-align: right;\n",
       "    }\n",
       "</style>\n",
       "<table border=\"1\" class=\"dataframe\">\n",
       "  <thead>\n",
       "    <tr style=\"text-align: right;\">\n",
       "      <th></th>\n",
       "      <th>WarehouseId</th>\n",
       "      <th>item</th>\n",
       "    </tr>\n",
       "  </thead>\n",
       "  <tbody>\n",
       "    <tr>\n",
       "      <td>0</td>\n",
       "      <td>0</td>\n",
       "      <td>{23812, 38789, 39049, 23662, 39543, 23672, 391...</td>\n",
       "    </tr>\n",
       "    <tr>\n",
       "      <td>1</td>\n",
       "      <td>1</td>\n",
       "      <td>{0, 1, 2, 6, 23, 48, 49, 50, 51, 52, 53, 54, 5...</td>\n",
       "    </tr>\n",
       "    <tr>\n",
       "      <td>2</td>\n",
       "      <td>7</td>\n",
       "      <td>{51, 8249, 8250, 60, 8254, 8258, 8262, 8266, 8...</td>\n",
       "    </tr>\n",
       "    <tr>\n",
       "      <td>3</td>\n",
       "      <td>8</td>\n",
       "      <td>{5656, 5653}</td>\n",
       "    </tr>\n",
       "    <tr>\n",
       "      <td>4</td>\n",
       "      <td>9</td>\n",
       "      <td>{8204, 8205, 8206, 8208, 8209, 8214, 8215, 821...</td>\n",
       "    </tr>\n",
       "    <tr>\n",
       "      <td>5</td>\n",
       "      <td>10</td>\n",
       "      <td>{10240, 10241, 10242, 10243, 268290, 10245, 10...</td>\n",
       "    </tr>\n",
       "    <tr>\n",
       "      <td>6</td>\n",
       "      <td>11</td>\n",
       "      <td>{12289, 12290, 10242, 12291, 147458, 268291, 1...</td>\n",
       "    </tr>\n",
       "    <tr>\n",
       "      <td>7</td>\n",
       "      <td>12</td>\n",
       "      <td>{219147, 8208, 14358, 14359, 38934, 14363, 143...</td>\n",
       "    </tr>\n",
       "    <tr>\n",
       "      <td>8</td>\n",
       "      <td>13</td>\n",
       "      <td>{38337, 18338, 38324}</td>\n",
       "    </tr>\n",
       "    <tr>\n",
       "      <td>9</td>\n",
       "      <td>14</td>\n",
       "      <td>{19087, 18580, 20847}</td>\n",
       "    </tr>\n",
       "    <tr>\n",
       "      <td>10</td>\n",
       "      <td>24</td>\n",
       "      <td>{47585, 47970, 47564, 47734}</td>\n",
       "    </tr>\n",
       "    <tr>\n",
       "      <td>11</td>\n",
       "      <td>25</td>\n",
       "      <td>{55592, 50570, 55939, 54838}</td>\n",
       "    </tr>\n",
       "    <tr>\n",
       "      <td>12</td>\n",
       "      <td>30</td>\n",
       "      <td>{66880, 64602}</td>\n",
       "    </tr>\n",
       "    <tr>\n",
       "      <td>13</td>\n",
       "      <td>33</td>\n",
       "      <td>{178197, 77855, 77861, 77862, 77863, 77864, 96...</td>\n",
       "    </tr>\n",
       "    <tr>\n",
       "      <td>14</td>\n",
       "      <td>52</td>\n",
       "      <td>{196640, 321577, 331837, 145471, 217168, 17621...</td>\n",
       "    </tr>\n",
       "    <tr>\n",
       "      <td>15</td>\n",
       "      <td>53</td>\n",
       "      <td>{139272, 194569, 217105, 139282, 143383, 13928...</td>\n",
       "    </tr>\n",
       "    <tr>\n",
       "      <td>16</td>\n",
       "      <td>54</td>\n",
       "      <td>{139265, 266242, 139268, 141318, 139271, 13927...</td>\n",
       "    </tr>\n",
       "    <tr>\n",
       "      <td>17</td>\n",
       "      <td>55</td>\n",
       "      <td>{141320, 141323, 141326, 141329, 141332, 14133...</td>\n",
       "    </tr>\n",
       "    <tr>\n",
       "      <td>18</td>\n",
       "      <td>67</td>\n",
       "      <td>{188162, 287244, 229518, 190734, 188946, 19062...</td>\n",
       "    </tr>\n",
       "    <tr>\n",
       "      <td>19</td>\n",
       "      <td>74</td>\n",
       "      <td>{200704, 202758, 202759, 202761, 200714, 20071...</td>\n",
       "    </tr>\n",
       "    <tr>\n",
       "      <td>20</td>\n",
       "      <td>76</td>\n",
       "      <td>{208896, 208898, 206880, 206888, 208938, 20894...</td>\n",
       "    </tr>\n",
       "    <tr>\n",
       "      <td>21</td>\n",
       "      <td>77</td>\n",
       "      <td>{212994, 213009, 305169, 213011, 213012, 21301...</td>\n",
       "    </tr>\n",
       "    <tr>\n",
       "      <td>22</td>\n",
       "      <td>78</td>\n",
       "      <td>{215052, 215055, 215056, 215058, 215059, 21506...</td>\n",
       "    </tr>\n",
       "    <tr>\n",
       "      <td>23</td>\n",
       "      <td>86</td>\n",
       "      <td>{243737, 243742, 243745, 247842, 241699, 24375...</td>\n",
       "    </tr>\n",
       "    <tr>\n",
       "      <td>24</td>\n",
       "      <td>92</td>\n",
       "      <td>{262155, 262174, 262176, 327789, 262269, 26227...</td>\n",
       "    </tr>\n",
       "    <tr>\n",
       "      <td>25</td>\n",
       "      <td>95</td>\n",
       "      <td>{272385, 272386, 272389, 299016, 270350, 27035...</td>\n",
       "    </tr>\n",
       "  </tbody>\n",
       "</table>\n",
       "</div>"
      ],
      "text/plain": [
       "    WarehouseId                                               item\n",
       "0             0  {23812, 38789, 39049, 23662, 39543, 23672, 391...\n",
       "1             1  {0, 1, 2, 6, 23, 48, 49, 50, 51, 52, 53, 54, 5...\n",
       "2             7  {51, 8249, 8250, 60, 8254, 8258, 8262, 8266, 8...\n",
       "3             8                                       {5656, 5653}\n",
       "4             9  {8204, 8205, 8206, 8208, 8209, 8214, 8215, 821...\n",
       "5            10  {10240, 10241, 10242, 10243, 268290, 10245, 10...\n",
       "6            11  {12289, 12290, 10242, 12291, 147458, 268291, 1...\n",
       "7            12  {219147, 8208, 14358, 14359, 38934, 14363, 143...\n",
       "8            13                              {38337, 18338, 38324}\n",
       "9            14                              {19087, 18580, 20847}\n",
       "10           24                       {47585, 47970, 47564, 47734}\n",
       "11           25                       {55592, 50570, 55939, 54838}\n",
       "12           30                                     {66880, 64602}\n",
       "13           33  {178197, 77855, 77861, 77862, 77863, 77864, 96...\n",
       "14           52  {196640, 321577, 331837, 145471, 217168, 17621...\n",
       "15           53  {139272, 194569, 217105, 139282, 143383, 13928...\n",
       "16           54  {139265, 266242, 139268, 141318, 139271, 13927...\n",
       "17           55  {141320, 141323, 141326, 141329, 141332, 14133...\n",
       "18           67  {188162, 287244, 229518, 190734, 188946, 19062...\n",
       "19           74  {200704, 202758, 202759, 202761, 200714, 20071...\n",
       "20           76  {208896, 208898, 206880, 206888, 208938, 20894...\n",
       "21           77  {212994, 213009, 305169, 213011, 213012, 21301...\n",
       "22           78  {215052, 215055, 215056, 215058, 215059, 21506...\n",
       "23           86  {243737, 243742, 243745, 247842, 241699, 24375...\n",
       "24           92  {262155, 262174, 262176, 327789, 262269, 26227...\n",
       "25           95  {272385, 272386, 272389, 299016, 270350, 27035..."
      ]
     },
     "execution_count": 10,
     "metadata": {},
     "output_type": "execute_result"
    }
   ],
   "source": [
    "a=df3.groupby('WarehouseId')['item'].apply(set)\n",
    "b = a.to_frame()\n",
    "c = b.copy()\n",
    "c1 = c.reset_index()\n",
    "c1"
   ]
  },
  {
   "cell_type": "code",
   "execution_count": null,
   "metadata": {},
   "outputs": [],
   "source": []
  },
  {
   "cell_type": "code",
   "execution_count": null,
   "metadata": {},
   "outputs": [],
   "source": []
  },
  {
   "cell_type": "code",
   "execution_count": 39,
   "metadata": {},
   "outputs": [],
   "source": [
    "c1['item'] = [list(i) for i in c1['item']]"
   ]
  },
  {
   "cell_type": "code",
   "execution_count": null,
   "metadata": {},
   "outputs": [],
   "source": []
  },
  {
   "cell_type": "code",
   "execution_count": null,
   "metadata": {},
   "outputs": [],
   "source": []
  },
  {
   "cell_type": "markdown",
   "metadata": {},
   "source": [
    "## insert into warehouse "
   ]
  },
  {
   "cell_type": "code",
   "execution_count": null,
   "metadata": {},
   "outputs": [],
   "source": []
  },
  {
   "cell_type": "code",
   "execution_count": 27,
   "metadata": {},
   "outputs": [
    {
     "name": "stdout",
     "output_type": "stream",
     "text": [
      "Wall time: 1 ms\n"
     ]
    }
   ],
   "source": [
    "%time data_dict = c1.to_dict('records')"
   ]
  },
  {
   "cell_type": "code",
   "execution_count": null,
   "metadata": {},
   "outputs": [],
   "source": []
  },
  {
   "cell_type": "code",
   "execution_count": null,
   "metadata": {},
   "outputs": [],
   "source": []
  },
  {
   "cell_type": "code",
   "execution_count": 12,
   "metadata": {},
   "outputs": [
    {
     "name": "stdout",
     "output_type": "stream",
     "text": [
      "Connected successfully!!!\n"
     ]
    }
   ],
   "source": [
    "try: \n",
    "    conn = MongoClient('192.168.1.101', 27017) \n",
    "    print(\"Connected successfully!!!\") \n",
    "except:   \n",
    "    print(\"Could not connect to MongoDB\") "
   ]
  },
  {
   "cell_type": "code",
   "execution_count": null,
   "metadata": {},
   "outputs": [],
   "source": []
  },
  {
   "cell_type": "code",
   "execution_count": 13,
   "metadata": {},
   "outputs": [],
   "source": [
    "mydb = conn.ankit_database\n",
    "collection = mydb.ItemWarehouse"
   ]
  },
  {
   "cell_type": "code",
   "execution_count": null,
   "metadata": {},
   "outputs": [],
   "source": []
  },
  {
   "cell_type": "code",
   "execution_count": 14,
   "metadata": {},
   "outputs": [
    {
     "name": "stderr",
     "output_type": "stream",
     "text": [
      "C:\\Users\\Ankit\\Anaconda3\\lib\\site-packages\\ipykernel_launcher.py:1: DeprecationWarning: remove is deprecated. Use delete_one or delete_many instead.\n",
      "  \"\"\"Entry point for launching an IPython kernel.\n"
     ]
    },
    {
     "data": {
      "text/plain": [
       "{'n': 169, 'ok': 1.0}"
      ]
     },
     "execution_count": 14,
     "metadata": {},
     "output_type": "execute_result"
    }
   ],
   "source": [
    "collection.remove() \n"
   ]
  },
  {
   "cell_type": "code",
   "execution_count": null,
   "metadata": {},
   "outputs": [],
   "source": []
  },
  {
   "cell_type": "code",
   "execution_count": null,
   "metadata": {},
   "outputs": [],
   "source": []
  },
  {
   "cell_type": "code",
   "execution_count": 15,
   "metadata": {},
   "outputs": [
    {
     "data": {
      "text/plain": [
       "<pymongo.results.InsertManyResult at 0x18f569baec8>"
      ]
     },
     "execution_count": 15,
     "metadata": {},
     "output_type": "execute_result"
    }
   ],
   "source": [
    "collection.insert_many(data_dict)"
   ]
  },
  {
   "cell_type": "code",
   "execution_count": null,
   "metadata": {},
   "outputs": [],
   "source": []
  },
  {
   "cell_type": "code",
   "execution_count": null,
   "metadata": {},
   "outputs": [],
   "source": []
  },
  {
   "cell_type": "code",
   "execution_count": null,
   "metadata": {},
   "outputs": [],
   "source": []
  },
  {
   "cell_type": "code",
   "execution_count": null,
   "metadata": {},
   "outputs": [],
   "source": []
  },
  {
   "cell_type": "code",
   "execution_count": null,
   "metadata": {},
   "outputs": [],
   "source": []
  },
  {
   "cell_type": "code",
   "execution_count": null,
   "metadata": {},
   "outputs": [],
   "source": []
  }
 ],
 "metadata": {
  "kernelspec": {
   "display_name": "Python 3",
   "language": "python",
   "name": "python3"
  },
  "language_info": {
   "codemirror_mode": {
    "name": "ipython",
    "version": 3
   },
   "file_extension": ".py",
   "mimetype": "text/x-python",
   "name": "python",
   "nbconvert_exporter": "python",
   "pygments_lexer": "ipython3",
   "version": "3.7.4"
  }
 },
 "nbformat": 4,
 "nbformat_minor": 4
}
